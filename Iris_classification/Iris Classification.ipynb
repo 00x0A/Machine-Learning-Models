{
 "cells": [
  {
   "cell_type": "markdown",
   "id": "6654870c",
   "metadata": {},
   "source": [
    "# Predicting Iris"
   ]
  },
  {
   "cell_type": "markdown",
   "id": "484a0d83",
   "metadata": {},
   "source": [
    "### Iris Dataset\n",
    "\n",
    "The Iris flower data set or Fisher's Iris data set is a multivariate data set introduced by the British statistician, eugenicist, and biologist Ronald Fisher in his 1936 paper The use of multiple measurements in taxonomic problems as an example of linear discriminant analysis. It is sometimes called Anderson's Iris data set because Edgar Anderson collected the data to quantify the morphologic variation of Iris flowers of three related species."
   ]
  },
  {
   "cell_type": "code",
   "execution_count": 1,
   "id": "2097ddd0",
   "metadata": {},
   "outputs": [],
   "source": [
    "# Importing the necessary libraries and dataset\n",
    "\n",
    "import matplotlib.pyplot as plt\n",
    "import numpy as np\n",
    "\n",
    "from sklearn.datasets import load_iris\n",
    "\n",
    "from sklearn import tree\n",
    "from sklearn.metrics import accuracy_score as score"
   ]
  },
  {
   "cell_type": "markdown",
   "id": "1dd4c300",
   "metadata": {},
   "source": [
    "###  Goal\n",
    "\n",
    "The goal is to predict the species of an Iris flower based on the length and width of its sepals and petals."
   ]
  },
  {
   "cell_type": "code",
   "execution_count": 2,
   "id": "f6e10683",
   "metadata": {},
   "outputs": [
    {
     "data": {
      "text/plain": [
       "dict_keys(['data', 'target', 'frame', 'target_names', 'DESCR', 'feature_names', 'filename'])"
      ]
     },
     "execution_count": 2,
     "metadata": {},
     "output_type": "execute_result"
    }
   ],
   "source": [
    "# Loading the iris dataset\n",
    "\n",
    "iris = load_iris()\n",
    "iris.keys()"
   ]
  },
  {
   "cell_type": "code",
   "execution_count": 3,
   "id": "9a5efef2",
   "metadata": {},
   "outputs": [
    {
     "name": "stdout",
     "output_type": "stream",
     "text": [
      ".. _iris_dataset:\n",
      "\n",
      "Iris plants dataset\n",
      "--------------------\n",
      "\n",
      "**Data Set Characteristics:**\n",
      "\n",
      "    :Number of Instances: 150 (50 in each of three classes)\n",
      "    :Number of Attributes: 4 numeric, predictive attributes and the class\n",
      "    :Attribute Information:\n",
      "        - sepal length in cm\n",
      "        - sepal width in cm\n",
      "        - petal length in cm\n",
      "        - petal width in cm\n",
      "        - class:\n",
      "                - Iris-Setosa\n",
      "                - Iris-Versicolour\n",
      "                - Iris-Virginica\n",
      "                \n",
      "    :Summary Statistics:\n",
      "\n",
      "    ============== ==== ==== ======= ===== ====================\n",
      "                    Min  Max   Mean    SD   Class Correlation\n",
      "    ============== ==== ==== ======= ===== ====================\n",
      "    sepal length:   4.3  7.9   5.84   0.83    0.7826\n",
      "    sepal width:    2.0  4.4   3.05   0.43   -0.4194\n",
      "    petal length:   1.0  6.9   3.76   1.76    0.9490  (high!)\n",
      "    petal width:    0.1  2.5   1.20   0.76    0.9565  (high!)\n",
      "    ============== ==== ==== ======= ===== ====================\n",
      "\n",
      "    :Missing Attribute Values: None\n",
      "    :Class Distribution: 33.3% for each of 3 classes.\n",
      "    :Creator: R.A. Fisher\n",
      "    :Donor: Michael Marshall (MARSHALL%PLU@io.arc.nasa.gov)\n",
      "    :Date: July, 1988\n",
      "\n",
      "The famous Iris database, first used by Sir R.A. Fisher. The dataset is taken\n",
      "from Fisher's paper. Note that it's the same as in R, but not as in the UCI\n",
      "Machine Learning Repository, which has two wrong data points.\n",
      "\n",
      "This is perhaps the best known database to be found in the\n",
      "pattern recognition literature.  Fisher's paper is a classic in the field and\n",
      "is referenced frequently to this day.  (See Duda & Hart, for example.)  The\n",
      "data set contains 3 classes of 50 instances each, where each class refers to a\n",
      "type of iris plant.  One class is linearly separable from the other 2; the\n",
      "latter are NOT linearly separable from each other.\n",
      "\n",
      ".. topic:: References\n",
      "\n",
      "   - Fisher, R.A. \"The use of multiple measurements in taxonomic problems\"\n",
      "     Annual Eugenics, 7, Part II, 179-188 (1936); also in \"Contributions to\n",
      "     Mathematical Statistics\" (John Wiley, NY, 1950).\n",
      "   - Duda, R.O., & Hart, P.E. (1973) Pattern Classification and Scene Analysis.\n",
      "     (Q327.D83) John Wiley & Sons.  ISBN 0-471-22361-1.  See page 218.\n",
      "   - Dasarathy, B.V. (1980) \"Nosing Around the Neighborhood: A New System\n",
      "     Structure and Classification Rule for Recognition in Partially Exposed\n",
      "     Environments\".  IEEE Transactions on Pattern Analysis and Machine\n",
      "     Intelligence, Vol. PAMI-2, No. 1, 67-71.\n",
      "   - Gates, G.W. (1972) \"The Reduced Nearest Neighbor Rule\".  IEEE Transactions\n",
      "     on Information Theory, May 1972, 431-433.\n",
      "   - See also: 1988 MLC Proceedings, 54-64.  Cheeseman et al\"s AUTOCLASS II\n",
      "     conceptual clustering system finds 3 classes in the data.\n",
      "   - Many, many more ...\n"
     ]
    }
   ],
   "source": [
    "print(iris.DESCR)"
   ]
  },
  {
   "cell_type": "code",
   "execution_count": 4,
   "id": "a50065cc",
   "metadata": {},
   "outputs": [
    {
     "name": "stdout",
     "output_type": "stream",
     "text": [
      "Features has a shape of (150, 4) .\n"
     ]
    }
   ],
   "source": [
    "features = iris[ \"data\" ]\n",
    "species  = iris[ \"target\" ]\n",
    "print(\"Features has a shape of\" , features.shape ,\".\")"
   ]
  },
  {
   "cell_type": "code",
   "execution_count": 5,
   "id": "2a8b1436",
   "metadata": {},
   "outputs": [
    {
     "name": "stdout",
     "output_type": "stream",
     "text": [
      "0 .  Setosa\n",
      "1 .  Versicolor\n",
      "2 .  Virginica\n"
     ]
    }
   ],
   "source": [
    "species_names = iris[ \"target_names\" ]\n",
    "\n",
    "for i, flower in enumerate(species_names):\n",
    "    print( i , \". \", flower.capitalize())"
   ]
  },
  {
   "cell_type": "code",
   "execution_count": 6,
   "id": "7cb10a4f",
   "metadata": {},
   "outputs": [
    {
     "data": {
      "image/png": "[encoded data removed]",
      "text/plain": [
       "<Figure size 432x288 with 1 Axes>"
      ]
     },
     "metadata": {
      "needs_background": "light"
     },
     "output_type": "display_data"
    }
   ],
   "source": [
    "plt.plot(species)\n",
    "plt.title(\"Class\")\n",
    "plt.show()"
   ]
  },
  {
   "cell_type": "markdown",
   "id": "9121ef3e",
   "metadata": {},
   "source": [
    "### Randomness\n",
    "\n",
    "Randomness is used as a tool to help the learning algorithms be more robust and ultimately result in better predictions and more accurate models."
   ]
  },
  {
   "cell_type": "code",
   "execution_count": 7,
   "id": "05f9d95a",
   "metadata": {},
   "outputs": [],
   "source": [
    "rand_indices = np.random.permutation(len( features ))"
   ]
  },
  {
   "cell_type": "markdown",
   "id": "fc9ce0f2",
   "metadata": {},
   "source": [
    "### Training and Validation sets"
   ]
  },
  {
   "cell_type": "code",
   "execution_count": 8,
   "id": "a5293fe4",
   "metadata": {},
   "outputs": [],
   "source": [
    "# Training data\n",
    "\n",
    "features_tr = features[ rand_indices[: - 10 ]]\n",
    "species_tr  = species[ rand_indices[: - 10 ]]\n",
    "\n",
    "# Validation data\n",
    "\n",
    "features_te = features[ rand_indices[ -10 : ]]\n",
    "species_te  = species[ rand_indices[ -10 : ]]"
   ]
  },
  {
   "cell_type": "markdown",
   "id": "5e7ef61a",
   "metadata": {},
   "source": [
    "### Decision tree Classifier"
   ]
  },
  {
   "cell_type": "markdown",
   "id": "c915cb03",
   "metadata": {},
   "source": [
    "A decision tree is a decision support tool that uses a tree-like model of decisions and their possible consequences, including chance event outcomes, resource costs, and utility. \n",
    "\n",
    "They can perform both __classification__ and __regression__ tasks. \n",
    "\n",
    "They are very powerful algorithms, capable of fitting complex datasets."
   ]
  },
  {
   "cell_type": "code",
   "execution_count": 9,
   "id": "4728faa7",
   "metadata": {},
   "outputs": [
    {
     "name": "stdout",
     "output_type": "stream",
     "text": [
      "1  :  Versicolor\n",
      "2  :  Virginica\n",
      "1  :  Versicolor\n",
      "1  :  Versicolor\n",
      "2  :  Virginica\n",
      "0  :  Setosa\n",
      "1  :  Versicolor\n",
      "2  :  Virginica\n",
      "1  :  Versicolor\n",
      "1  :  Versicolor\n"
     ]
    }
   ],
   "source": [
    "classifier = tree.DecisionTreeClassifier()\n",
    "\n",
    "# Fitting the classifier with the trainig data\n",
    "\n",
    "classifier.fit( features_tr, species_tr )\n",
    "\n",
    "preds= classifier.predict(features_te)\n",
    "\n",
    "for pred in preds:\n",
    "    print( pred ,\" : \", species_names[pred].capitalize())"
   ]
  },
  {
   "cell_type": "markdown",
   "id": "14a2c898",
   "metadata": {},
   "source": [
    "### Prediction accuracy"
   ]
  },
  {
   "cell_type": "code",
   "execution_count": 10,
   "id": "f82c9895",
   "metadata": {},
   "outputs": [
    {
     "name": "stdout",
     "output_type": "stream",
     "text": [
      "Accuracy of the model is  100.0 % .\n"
     ]
    }
   ],
   "source": [
    "accuracy = score( preds, species_te ) * 100\n",
    "\n",
    "print(\"Accuracy of the model is \", accuracy ,\"% .\")"
   ]
  }
 ],
 "metadata": {
  "kernelspec": {
   "display_name": "Python 3",
   "language": "python",
   "name": "python3"
  },
  "language_info": {
   "codemirror_mode": {
    "name": "ipython",
    "version": 3
   },
   "file_extension": ".py",
   "mimetype": "text/x-python",
   "name": "python",
   "nbconvert_exporter": "python",
   "pygments_lexer": "ipython3",
   "version": "3.9.2"
  }
 },
 "nbformat": 4,
 "nbformat_minor": 5
}
